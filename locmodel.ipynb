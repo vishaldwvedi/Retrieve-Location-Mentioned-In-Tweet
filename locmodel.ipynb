{
  "nbformat": 4,
  "nbformat_minor": 0,
  "metadata": {
    "colab": {
      "name": "locmodel.ipynb",
      "version": "0.3.2",
      "provenance": [],
      "collapsed_sections": []
    },
    "kernelspec": {
      "name": "python3",
      "display_name": "Python 3"
    }
  },
  "cells": [
    {
      "cell_type": "code",
      "metadata": {
        "id": "A66Og2Remnyw",
        "colab_type": "code",
        "colab": {}
      },
      "source": [
        "from textblob import TextBlob\n",
        "import tweepy\n",
        "import matplotlib.pyplot as plt\n",
        "import pandas as pd"
      ],
      "execution_count": 0,
      "outputs": []
    },
    {
      "cell_type": "code",
      "metadata": {
        "id": "TMyuutNvmqcA",
        "colab_type": "code",
        "colab": {}
      },
      "source": [
        "consumerKey=\"SUyt2H9XLhjd2UkwkbkuMbdpn\"\n",
        "consumerSecret=\"LHo1I5OqPgOaxsrIWOQJW2nt2IUkbbMMPSZltEWpqE2w915LJS\"\n",
        "accessToken=\"1147374963642400770-2tU83HNNTlSzt7KLYORxcHVFcT0EZN\"\n",
        "accessSecret=\"VIoONJ9JwS1xcL95eEowqyiF0CVQQG9zMfJnEsACyrqsQ\""
      ],
      "execution_count": 0,
      "outputs": []
    },
    {
      "cell_type": "code",
      "metadata": {
        "id": "Ct00Nz-wmsMr",
        "colab_type": "code",
        "colab": {}
      },
      "source": [
        "auth=tweepy.OAuthHandler(consumerKey,consumerSecret)\n",
        "auth.set_access_token(accessToken,accessSecret)\n",
        "api=tweepy.API(auth)"
      ],
      "execution_count": 0,
      "outputs": []
    },
    {
      "cell_type": "code",
      "metadata": {
        "id": "rW4zJL5umwjW",
        "colab_type": "code",
        "colab": {}
      },
      "source": [
        "df = pd.DataFrame(columns = ['Tweets', 'User'])"
      ],
      "execution_count": 0,
      "outputs": []
    },
    {
      "cell_type": "code",
      "metadata": {
        "id": "yNLp7PRToAhF",
        "colab_type": "code",
        "colab": {}
      },
      "source": [
        "def stream(data, file_name):\n",
        "    i = 0\n",
        "    for tweet in tweepy.Cursor(api.search,count=2000 ,q=data,lang='en').items():\n",
        "        print(i, end='\\r')\n",
        "        df.loc[i, 'Tweets'] = tweet.text\n",
        "        df.loc[i, 'User'] = tweet.user.name\n",
        "        df.to_excel('{}.xlsx'.format(file_name))\n",
        "        i+=1\n",
        "        if i == 2000:\n",
        "            break\n",
        "        else:\n",
        "            pass"
      ],
      "execution_count": 0,
      "outputs": []
    },
    {
      "cell_type": "code",
      "metadata": {
        "id": "cDSw7gkXe4xF",
        "colab_type": "code",
        "colab": {}
      },
      "source": [
        "stream(data = ['world'], file_name = 'my_tweet')"
      ],
      "execution_count": 0,
      "outputs": []
    },
    {
      "cell_type": "code",
      "metadata": {
        "id": "eH4I0PgKomI0",
        "colab_type": "code",
        "colab": {}
      },
      "source": [
        "df.head()"
      ],
      "execution_count": 0,
      "outputs": []
    },
    {
      "cell_type": "code",
      "metadata": {
        "id": "VtT8pRAIpW1Q",
        "colab_type": "code",
        "colab": {}
      },
      "source": [
        "def clean_tweet(tweet):\n",
        "    return ' '.join(re.sub('(@[A-Za-z0-9]+)|([^0-9A-Za-z \\t])|(\\w+:\\/\\/\\S+)|RT', ' ', tweet).split())"
      ],
      "execution_count": 0,
      "outputs": []
    },
    {
      "cell_type": "code",
      "metadata": {
        "id": "eHTpUOHiqZlR",
        "colab_type": "code",
        "colab": {}
      },
      "source": [
        "import re\n",
        "df['clean_tweet'] = df['Tweets'].apply(lambda x: clean_tweet(x))"
      ],
      "execution_count": 0,
      "outputs": []
    },
    {
      "cell_type": "code",
      "metadata": {
        "id": "ZlaMzsq6qZr9",
        "colab_type": "code",
        "outputId": "8267f27a-ede9-4922-e64d-05f61cc63159",
        "colab": {
          "base_uri": "https://localhost:8080/",
          "height": 196
        }
      },
      "source": [
        "df.head()"
      ],
      "execution_count": 0,
      "outputs": [
        {
          "output_type": "execute_result",
          "data": {
            "text/html": [
              "<div>\n",
              "<style scoped>\n",
              "    .dataframe tbody tr th:only-of-type {\n",
              "        vertical-align: middle;\n",
              "    }\n",
              "\n",
              "    .dataframe tbody tr th {\n",
              "        vertical-align: top;\n",
              "    }\n",
              "\n",
              "    .dataframe thead th {\n",
              "        text-align: right;\n",
              "    }\n",
              "</style>\n",
              "<table border=\"1\" class=\"dataframe\">\n",
              "  <thead>\n",
              "    <tr style=\"text-align: right;\">\n",
              "      <th></th>\n",
              "      <th>Tweets</th>\n",
              "      <th>User</th>\n",
              "      <th>clean_tweet</th>\n",
              "    </tr>\n",
              "  </thead>\n",
              "  <tbody>\n",
              "    <tr>\n",
              "      <th>0</th>\n",
              "      <td>RT @TrueEyeTheSpy: Ah, it seems Patriots the w...</td>\n",
              "      <td>Leslie</td>\n",
              "      <td>Ah it seems Patriots the world over maxed out ...</td>\n",
              "    </tr>\n",
              "    <tr>\n",
              "      <th>1</th>\n",
              "      <td>RT @spicebae_: this the greatest feeling in th...</td>\n",
              "      <td>Queen k ♕</td>\n",
              "      <td>this the greatest feeling in the world to look...</td>\n",
              "    </tr>\n",
              "    <tr>\n",
              "      <th>2</th>\n",
              "      <td>RT @1984to1776: Water world Tsunami injuring m...</td>\n",
              "      <td>kurapika vs uvo 😭</td>\n",
              "      <td>Water world Tsunami injuring many in Yanbian M...</td>\n",
              "    </tr>\n",
              "    <tr>\n",
              "      <th>3</th>\n",
              "      <td>RT @RamenhaeMXMB: elhae's IG story after leavi...</td>\n",
              "      <td>Qamara</td>\n",
              "      <td>elhae s IG story after leaving today s monsta ...</td>\n",
              "    </tr>\n",
              "    <tr>\n",
              "      <th>4</th>\n",
              "      <td>RT @Joe_Thomson_: @ladbible Volkswagen launche...</td>\n",
              "      <td>저세티❄️ เรียกเราว่าจ๋าจ้า</td>\n",
              "      <td>Thomson Volkswagen launches new family car tha...</td>\n",
              "    </tr>\n",
              "  </tbody>\n",
              "</table>\n",
              "</div>"
            ],
            "text/plain": [
              "                                              Tweets  ...                                        clean_tweet\n",
              "0  RT @TrueEyeTheSpy: Ah, it seems Patriots the w...  ...  Ah it seems Patriots the world over maxed out ...\n",
              "1  RT @spicebae_: this the greatest feeling in th...  ...  this the greatest feeling in the world to look...\n",
              "2  RT @1984to1776: Water world Tsunami injuring m...  ...  Water world Tsunami injuring many in Yanbian M...\n",
              "3  RT @RamenhaeMXMB: elhae's IG story after leavi...  ...  elhae s IG story after leaving today s monsta ...\n",
              "4  RT @Joe_Thomson_: @ladbible Volkswagen launche...  ...  Thomson Volkswagen launches new family car tha...\n",
              "\n",
              "[5 rows x 3 columns]"
            ]
          },
          "metadata": {
            "tags": []
          },
          "execution_count": 10
        }
      ]
    },
    {
      "cell_type": "code",
      "metadata": {
        "id": "5o6gyGYir1tT",
        "colab_type": "code",
        "colab": {}
      },
      "source": [
        "li=df[\"clean_tweet\"].values.tolist()\n",
        "li1=df[\"User\"].values.tolist()"
      ],
      "execution_count": 0,
      "outputs": []
    },
    {
      "cell_type": "code",
      "metadata": {
        "id": "rFP9PzfvsBpQ",
        "colab_type": "code",
        "colab": {}
      },
      "source": [
        "lis=[]\n",
        "import spacy \n",
        "nlp = spacy.load('en_core_web_sm')\n",
        "for i in  li:\n",
        "  doc = nlp(i)\n",
        "  d=[]\n",
        "  for j in doc.ents:\n",
        "   \n",
        "    d.append(j.label_)\n",
        "  if \"GPE\" in d:\n",
        "    lis.append(\"1\")\n",
        "  else:\n",
        "    lis.append(\"0\")\n",
        "    \n",
        "    "
      ],
      "execution_count": 0,
      "outputs": []
    },
    {
      "cell_type": "code",
      "metadata": {
        "id": "iqTrY7j1_DQL",
        "colab_type": "code",
        "outputId": "92d13ff5-ec79-48f1-c38e-7fe5ae417e29",
        "colab": {
          "base_uri": "https://localhost:8080/",
          "height": 33
        }
      },
      "source": [
        "len(lis)"
      ],
      "execution_count": 0,
      "outputs": [
        {
          "output_type": "execute_result",
          "data": {
            "text/plain": [
              "2000"
            ]
          },
          "metadata": {
            "tags": []
          },
          "execution_count": 277
        }
      ]
    },
    {
      "cell_type": "code",
      "metadata": {
        "id": "5EvCyZcBubFl",
        "colab_type": "code",
        "colab": {}
      },
      "source": [
        "df['Value_loc']=lis"
      ],
      "execution_count": 0,
      "outputs": []
    },
    {
      "cell_type": "code",
      "metadata": {
        "id": "1_LftlZbueDZ",
        "colab_type": "code",
        "outputId": "ec2e1e9f-1108-4b16-cc08-891fd72c216c",
        "colab": {
          "base_uri": "https://localhost:8080/",
          "height": 644
        }
      },
      "source": [
        "df.head(20)"
      ],
      "execution_count": 0,
      "outputs": [
        {
          "output_type": "execute_result",
          "data": {
            "text/html": [
              "<div>\n",
              "<style scoped>\n",
              "    .dataframe tbody tr th:only-of-type {\n",
              "        vertical-align: middle;\n",
              "    }\n",
              "\n",
              "    .dataframe tbody tr th {\n",
              "        vertical-align: top;\n",
              "    }\n",
              "\n",
              "    .dataframe thead th {\n",
              "        text-align: right;\n",
              "    }\n",
              "</style>\n",
              "<table border=\"1\" class=\"dataframe\">\n",
              "  <thead>\n",
              "    <tr style=\"text-align: right;\">\n",
              "      <th></th>\n",
              "      <th>Tweets</th>\n",
              "      <th>User</th>\n",
              "      <th>clean_tweet</th>\n",
              "      <th>Value_loc</th>\n",
              "    </tr>\n",
              "  </thead>\n",
              "  <tbody>\n",
              "    <tr>\n",
              "      <th>0</th>\n",
              "      <td>RT @bts_love_myself: Just as you love yourself...</td>\n",
              "      <td>𝙺𝚒𝚖 | 𝓵𝓸𝓿𝓮𝓼 𝓳𝓴 ㅇㅅㅇ</td>\n",
              "      <td>love myself Just as you love yourself do you l...</td>\n",
              "      <td>0</td>\n",
              "    </tr>\n",
              "    <tr>\n",
              "      <th>1</th>\n",
              "      <td>Good morning World ....... https://t.co/4lLOD9...</td>\n",
              "      <td>Lexi</td>\n",
              "      <td>Good morning World</td>\n",
              "      <td>0</td>\n",
              "    </tr>\n",
              "    <tr>\n",
              "      <th>2</th>\n",
              "      <td>RT @chartdata: .@Beyonce, @SAINtJHN, @wizkiday...</td>\n",
              "      <td>Uncle Damola 🇳🇬🕷</td>\n",
              "      <td>and Blue Ivy Carter s BROWN SKIN GIRL debuts a...</td>\n",
              "      <td>0</td>\n",
              "    </tr>\n",
              "    <tr>\n",
              "      <th>3</th>\n",
              "      <td>@GulBukhari @BushraGohar We are one of the mos...</td>\n",
              "      <td>Awais Maqbool Wattoo</td>\n",
              "      <td>We are one of the most corrupt nations of the ...</td>\n",
              "      <td>0</td>\n",
              "    </tr>\n",
              "    <tr>\n",
              "      <th>4</th>\n",
              "      <td>RT @teasofjenlisa: \"So stay, I know you gotta ...</td>\n",
              "      <td>yowyow</td>\n",
              "      <td>So stay I know you gotta be tired When the nig...</td>\n",
              "      <td>0</td>\n",
              "    </tr>\n",
              "    <tr>\n",
              "      <th>5</th>\n",
              "      <td>RT @womensart1: 'All’s Right with the World', ...</td>\n",
              "      <td>Arnaav Bhavanani 🦔</td>\n",
              "      <td>All s Right with the World linoblock woodblock...</td>\n",
              "      <td>0</td>\n",
              "    </tr>\n",
              "    <tr>\n",
              "      <th>6</th>\n",
              "      <td>“Foreign language” - this concept is not fit f...</td>\n",
              "      <td>Carsten Levisen</td>\n",
              "      <td>Foreign language this concept is not fit for t...</td>\n",
              "      <td>0</td>\n",
              "    </tr>\n",
              "    <tr>\n",
              "      <th>7</th>\n",
              "      <td>RT @ukpcn: Photography as Record\\nFREE: Talk a...</td>\n",
              "      <td>Charlie Turpie</td>\n",
              "      <td>Photography as Record FREE Talk and Document V...</td>\n",
              "      <td>0</td>\n",
              "    </tr>\n",
              "    <tr>\n",
              "      <th>8</th>\n",
              "      <td>RT @finalfantasyvii: Take a closer look at the...</td>\n",
              "      <td>Naedren Olórin</td>\n",
              "      <td>Take a closer look at the entrance to Shinra B...</td>\n",
              "      <td>0</td>\n",
              "    </tr>\n",
              "    <tr>\n",
              "      <th>9</th>\n",
              "      <td>WAS ABT TO WATCH TORADORA AGAIN BUT IT REMINDS...</td>\n",
              "      <td>janne raquel 🌸</td>\n",
              "      <td>WAS ABT TO WATCH TORADORA AGAIN BUT IT REMINDS...</td>\n",
              "      <td>0</td>\n",
              "    </tr>\n",
              "    <tr>\n",
              "      <th>10</th>\n",
              "      <td>RT @CNN: Ethiopia planted more than 353 millio...</td>\n",
              "      <td>Liko Kurniawan</td>\n",
              "      <td>Ethiopia planted more than 353 million trees i...</td>\n",
              "      <td>1</td>\n",
              "    </tr>\n",
              "    <tr>\n",
              "      <th>11</th>\n",
              "      <td>RT @CNN: Ethiopia planted more than 353 millio...</td>\n",
              "      <td>Kiva Andru</td>\n",
              "      <td>Ethiopia planted more than 353 million trees i...</td>\n",
              "      <td>1</td>\n",
              "    </tr>\n",
              "    <tr>\n",
              "      <th>12</th>\n",
              "      <td>RT @cowards_are_us: DAY AFTER DAY THE WORLD WA...</td>\n",
              "      <td>Resist &amp; Organize</td>\n",
              "      <td>are us DAY AFTER DAY THE WORLD WATCHES Trump D...</td>\n",
              "      <td>0</td>\n",
              "    </tr>\n",
              "    <tr>\n",
              "      <th>13</th>\n",
              "      <td>RT @bts_love_myself: Just as you love yourself...</td>\n",
              "      <td>Emna_boutrif</td>\n",
              "      <td>love myself Just as you love yourself do you l...</td>\n",
              "      <td>0</td>\n",
              "    </tr>\n",
              "    <tr>\n",
              "      <th>14</th>\n",
              "      <td>RT @Think32_: “Whatever the future direction o...</td>\n",
              "      <td>IrishMa esquire</td>\n",
              "      <td>Whatever the future direction of the Brexit pr...</td>\n",
              "      <td>1</td>\n",
              "    </tr>\n",
              "    <tr>\n",
              "      <th>15</th>\n",
              "      <td>RT @yooniechou: HAPPY FRIENDSHIP DAY BB I WOOF...</td>\n",
              "      <td>석진's dilla ☆</td>\n",
              "      <td>HAPPY FRIENDSHIP DAY BB I WOOF YOU ALL LIKE CR...</td>\n",
              "      <td>0</td>\n",
              "    </tr>\n",
              "    <tr>\n",
              "      <th>16</th>\n",
              "      <td>‘Please Stop Beating Us’: Where Were Hong Kong...</td>\n",
              "      <td>rl</td>\n",
              "      <td>Please Stop Beating Us Where Were Hong Kong s ...</td>\n",
              "      <td>0</td>\n",
              "    </tr>\n",
              "    <tr>\n",
              "      <th>17</th>\n",
              "      <td>RT @mitosato4: @masa80248851 Spread this movie...</td>\n",
              "      <td>岩崎　守</td>\n",
              "      <td>Spread this movie all over the world plz</td>\n",
              "      <td>0</td>\n",
              "    </tr>\n",
              "    <tr>\n",
              "      <th>18</th>\n",
              "      <td>4/ Honesty again. It's so important that you l...</td>\n",
              "      <td>Kasuba Stuurman</td>\n",
              "      <td>4 Honesty again It s so important that you let...</td>\n",
              "      <td>0</td>\n",
              "    </tr>\n",
              "    <tr>\n",
              "      <th>19</th>\n",
              "      <td>Analysis | The world’s climate emergency is ge...</td>\n",
              "      <td>Lou Spanos</td>\n",
              "      <td>Analysis The world s climate emergency is gett...</td>\n",
              "      <td>0</td>\n",
              "    </tr>\n",
              "  </tbody>\n",
              "</table>\n",
              "</div>"
            ],
            "text/plain": [
              "                                               Tweets  ... Value_loc\n",
              "0   RT @bts_love_myself: Just as you love yourself...  ...         0\n",
              "1   Good morning World ....... https://t.co/4lLOD9...  ...         0\n",
              "2   RT @chartdata: .@Beyonce, @SAINtJHN, @wizkiday...  ...         0\n",
              "3   @GulBukhari @BushraGohar We are one of the mos...  ...         0\n",
              "4   RT @teasofjenlisa: \"So stay, I know you gotta ...  ...         0\n",
              "5   RT @womensart1: 'All’s Right with the World', ...  ...         0\n",
              "6   “Foreign language” - this concept is not fit f...  ...         0\n",
              "7   RT @ukpcn: Photography as Record\\nFREE: Talk a...  ...         0\n",
              "8   RT @finalfantasyvii: Take a closer look at the...  ...         0\n",
              "9   WAS ABT TO WATCH TORADORA AGAIN BUT IT REMINDS...  ...         0\n",
              "10  RT @CNN: Ethiopia planted more than 353 millio...  ...         1\n",
              "11  RT @CNN: Ethiopia planted more than 353 millio...  ...         1\n",
              "12  RT @cowards_are_us: DAY AFTER DAY THE WORLD WA...  ...         0\n",
              "13  RT @bts_love_myself: Just as you love yourself...  ...         0\n",
              "14  RT @Think32_: “Whatever the future direction o...  ...         1\n",
              "15  RT @yooniechou: HAPPY FRIENDSHIP DAY BB I WOOF...  ...         0\n",
              "16  ‘Please Stop Beating Us’: Where Were Hong Kong...  ...         0\n",
              "17  RT @mitosato4: @masa80248851 Spread this movie...  ...         0\n",
              "18  4/ Honesty again. It's so important that you l...  ...         0\n",
              "19  Analysis | The world’s climate emergency is ge...  ...         0\n",
              "\n",
              "[20 rows x 4 columns]"
            ]
          },
          "metadata": {
            "tags": []
          },
          "execution_count": 279
        }
      ]
    },
    {
      "cell_type": "code",
      "metadata": {
        "id": "53uwzaEqCdLM",
        "colab_type": "code",
        "colab": {}
      },
      "source": [
        "X=df[['clean_tweet']]\n",
        "y=df['Value_loc']"
      ],
      "execution_count": 0,
      "outputs": []
    },
    {
      "cell_type": "code",
      "metadata": {
        "id": "KtUUffYXQV-r",
        "colab_type": "code",
        "colab": {}
      },
      "source": [
        "from sklearn.feature_extraction.text import CountVectorizer"
      ],
      "execution_count": 0,
      "outputs": []
    },
    {
      "cell_type": "code",
      "metadata": {
        "id": "YACMILJVRw_S",
        "colab_type": "code",
        "outputId": "1118e8af-d410-4b94-d7be-110fb658cc0f",
        "colab": {
          "base_uri": "https://localhost:8080/",
          "height": 134
        }
      },
      "source": [
        "vect = CountVectorizer(binary=True)\n",
        "X = vect.fit_transform(df['clean_tweet'])\n",
        "\n",
        "X.toarray()"
      ],
      "execution_count": 0,
      "outputs": [
        {
          "output_type": "execute_result",
          "data": {
            "text/plain": [
              "array([[0, 0, 0, ..., 0, 0, 0],\n",
              "       [0, 0, 0, ..., 0, 0, 0],\n",
              "       [0, 0, 0, ..., 0, 0, 0],\n",
              "       ...,\n",
              "       [0, 0, 0, ..., 0, 0, 0],\n",
              "       [0, 0, 0, ..., 0, 0, 0],\n",
              "       [0, 0, 0, ..., 0, 0, 0]])"
            ]
          },
          "metadata": {
            "tags": []
          },
          "execution_count": 282
        }
      ]
    },
    {
      "cell_type": "code",
      "metadata": {
        "id": "A_ENEJQGR2ho",
        "colab_type": "code",
        "colab": {}
      },
      "source": [
        "from sklearn.model_selection import train_test_split\n",
        "\n",
        "X = df.clean_tweet\n",
        "y = df.Value_loc\n",
        "\n",
        "X_train, X_test, y_train, y_test = train_test_split(X, y, test_size=0.2)"
      ],
      "execution_count": 0,
      "outputs": []
    },
    {
      "cell_type": "code",
      "metadata": {
        "id": "jpTUTj0ISRJp",
        "colab_type": "code",
        "colab": {}
      },
      "source": [
        "from sklearn.feature_extraction.text import CountVectorizer\n",
        "\n",
        "vect = CountVectorizer(max_features=1000, binary=True)\n",
        "\n",
        "X_train_vect = vect.fit_transform(X_train)"
      ],
      "execution_count": 0,
      "outputs": []
    },
    {
      "cell_type": "code",
      "metadata": {
        "id": "2yZdW54pSVrQ",
        "colab_type": "code",
        "outputId": "b1ddfed8-7c0a-4a78-fc9b-99fe374eb0bd",
        "colab": {
          "base_uri": "https://localhost:8080/",
          "height": 67
        }
      },
      "source": [
        "counts = df.Value_loc.value_counts()\n",
        "print(counts)"
      ],
      "execution_count": 0,
      "outputs": [
        {
          "output_type": "stream",
          "text": [
            "0    1604\n",
            "1     396\n",
            "Name: Value_loc, dtype: int64\n"
          ],
          "name": "stdout"
        }
      ]
    },
    {
      "cell_type": "code",
      "metadata": {
        "id": "ZhwCC1ZJSiu7",
        "colab_type": "code",
        "outputId": "0b38d834-502a-44dd-a5c2-c84182d7397d",
        "colab": {
          "base_uri": "https://localhost:8080/",
          "height": 33
        }
      },
      "source": [
        "from sklearn.naive_bayes import MultinomialNB\n",
        "\n",
        "nb = MultinomialNB()\n",
        "\n",
        "nb.fit(X_train_vect, y_train)\n"
      ],
      "execution_count": 0,
      "outputs": [
        {
          "output_type": "execute_result",
          "data": {
            "text/plain": [
              "MultinomialNB(alpha=1.0, class_prior=None, fit_prior=True)"
            ]
          },
          "metadata": {
            "tags": []
          },
          "execution_count": 286
        }
      ]
    },
    {
      "cell_type": "code",
      "metadata": {
        "id": "tccl9YYyS47n",
        "colab_type": "code",
        "colab": {}
      },
      "source": [
        "X_test_vect = vect.transform(X_test)"
      ],
      "execution_count": 0,
      "outputs": []
    },
    {
      "cell_type": "code",
      "metadata": {
        "id": "eufg9PC4TA1X",
        "colab_type": "code",
        "outputId": "e2cdcb06-4194-4a40-c757-e84a72a1e9f3",
        "colab": {
          "base_uri": "https://localhost:8080/",
          "height": 535
        }
      },
      "source": [
        "y_pred = nb.predict(X_test_vect)\n",
        "\n",
        "y_pred"
      ],
      "execution_count": 0,
      "outputs": [
        {
          "output_type": "execute_result",
          "data": {
            "text/plain": [
              "array(['1', '0', '0', '0', '0', '0', '1', '0', '0', '0', '0', '1', '0',\n",
              "       '0', '0', '0', '0', '0', '0', '0', '0', '1', '0', '0', '0', '0',\n",
              "       '0', '0', '0', '0', '0', '0', '0', '0', '0', '0', '0', '0', '1',\n",
              "       '0', '0', '0', '0', '0', '1', '0', '0', '1', '1', '0', '1', '0',\n",
              "       '0', '0', '0', '0', '0', '0', '0', '0', '0', '0', '0', '0', '1',\n",
              "       '0', '0', '0', '0', '0', '1', '0', '0', '0', '1', '0', '0', '0',\n",
              "       '0', '0', '0', '0', '0', '0', '0', '0', '0', '0', '0', '0', '1',\n",
              "       '0', '0', '0', '0', '0', '1', '0', '0', '0', '0', '1', '0', '0',\n",
              "       '0', '0', '0', '0', '0', '0', '0', '0', '0', '1', '0', '0', '0',\n",
              "       '0', '0', '0', '0', '0', '0', '1', '0', '0', '0', '0', '0', '0',\n",
              "       '0', '0', '0', '1', '0', '1', '0', '0', '0', '0', '0', '0', '0',\n",
              "       '0', '0', '0', '1', '1', '0', '0', '1', '1', '0', '0', '0', '0',\n",
              "       '1', '0', '0', '1', '0', '0', '1', '0', '0', '0', '0', '0', '1',\n",
              "       '0', '0', '0', '0', '1', '0', '0', '0', '0', '0', '1', '0', '0',\n",
              "       '1', '0', '0', '0', '0', '0', '1', '0', '0', '0', '1', '0', '0',\n",
              "       '0', '0', '0', '0', '1', '0', '0', '0', '0', '0', '0', '0', '0',\n",
              "       '0', '0', '0', '0', '1', '0', '0', '0', '0', '0', '0', '0', '1',\n",
              "       '0', '0', '0', '1', '0', '0', '0', '0', '1', '0', '0', '1', '0',\n",
              "       '0', '0', '0', '0', '0', '0', '0', '0', '0', '0', '0', '0', '0',\n",
              "       '0', '0', '1', '0', '0', '0', '0', '1', '0', '0', '0', '0', '1',\n",
              "       '0', '1', '1', '0', '0', '0', '0', '0', '0', '0', '0', '0', '1',\n",
              "       '0', '0', '1', '0', '0', '0', '0', '0', '0', '0', '0', '0', '1',\n",
              "       '0', '0', '0', '0', '1', '0', '0', '0', '0', '0', '0', '0', '0',\n",
              "       '0', '0', '0', '0', '0', '0', '0', '0', '0', '0', '0', '0', '0',\n",
              "       '0', '0', '0', '1', '0', '0', '1', '0', '0', '0', '0', '0', '1',\n",
              "       '0', '0', '0', '0', '0', '0', '0', '1', '0', '1', '0', '0', '0',\n",
              "       '0', '0', '1', '0', '1', '0', '0', '0', '1', '0', '0', '1', '1',\n",
              "       '0', '0', '0', '0', '0', '0', '0', '0', '0', '1', '0', '1', '0',\n",
              "       '0', '0', '0', '1', '0', '0', '0', '0', '0', '0', '1', '0', '0',\n",
              "       '0', '0', '0', '0', '1', '0', '0', '0', '0', '0', '0', '0', '0',\n",
              "       '0', '0', '0', '0', '0', '0', '0', '0', '0', '0'], dtype='<U1')"
            ]
          },
          "metadata": {
            "tags": []
          },
          "execution_count": 288
        }
      ]
    },
    {
      "cell_type": "code",
      "metadata": {
        "id": "AqYo9XI_TWg2",
        "colab_type": "code",
        "outputId": "f9c71afc-14eb-4354-cdf8-d6ec4ea0a082",
        "colab": {
          "base_uri": "https://localhost:8080/",
          "height": 33
        }
      },
      "source": [
        "from sklearn.metrics import accuracy_score, f1_score, confusion_matrix\n",
        "from sklearn.metrics import classification_report \n",
        "print(\"Accuracy: {:.2f}%\".format(accuracy_score(y_test, y_pred) * 100))\n"
      ],
      "execution_count": 0,
      "outputs": [
        {
          "output_type": "stream",
          "text": [
            "Accuracy: 90.00%\n"
          ],
          "name": "stdout"
        }
      ]
    },
    {
      "cell_type": "code",
      "metadata": {
        "id": "ZX8pRUz9Tba9",
        "colab_type": "code",
        "outputId": "a307cb5e-ac24-4880-f862-dc6bfedf81f4",
        "colab": {
          "base_uri": "https://localhost:8080/",
          "height": 201
        }
      },
      "source": [
        "cm=confusion_matrix(y_test,y_pred)\n",
        "print(cm)\n",
        "\n",
        "print(classification_report(y_test,y_pred))"
      ],
      "execution_count": 0,
      "outputs": [
        {
          "output_type": "stream",
          "text": [
            "[[307   9]\n",
            " [ 31  53]]\n",
            "              precision    recall  f1-score   support\n",
            "\n",
            "           0       0.91      0.97      0.94       316\n",
            "           1       0.85      0.63      0.73        84\n",
            "\n",
            "    accuracy                           0.90       400\n",
            "   macro avg       0.88      0.80      0.83       400\n",
            "weighted avg       0.90      0.90      0.89       400\n",
            "\n"
          ],
          "name": "stdout"
        }
      ]
    },
    {
      "cell_type": "code",
      "metadata": {
        "id": "rdHRfHN3TlR3",
        "colab_type": "code",
        "colab": {}
      },
      "source": [
        ""
      ],
      "execution_count": 0,
      "outputs": []
    }
  ]
}